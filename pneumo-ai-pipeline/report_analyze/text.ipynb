{
 "cells": [
  {
   "cell_type": "code",
   "execution_count": 11,
   "metadata": {},
   "outputs": [],
   "source": [
    "import os\n",
    "import pandas as pd\n",
    "import re\n",
    "\n",
    "# --- 설정 ---\n",
    "# 텍스트 파일이 들어있는 폴더 이름\n",
    "INPUT_DIR = 'pneumo_study'\n",
    "# 결과를 저장할 CSV 파일 이름\n",
    "OUTPUT_CSV = 'pneumo_findings_with_filename.csv'\n",
    "\n",
    "# --- 메인 로직 ---\n",
    "def extract_findings_data():\n",
    "    \"\"\"지정된 폴더에서 txt파일을 읽어 studyID, FINDINGS, filename을 추출하고 CSV로 저장합니다.\"\"\"\n",
    "    \n",
    "    # 1. 폴더 존재 여부 확인\n",
    "    if not os.path.isdir(INPUT_DIR):\n",
    "        print(f\"❌ 오류: '{INPUT_DIR}' 폴더를 찾을 수 없습니다.\")\n",
    "        return\n",
    "\n",
    "    print(f\"📁 '{INPUT_DIR}' 폴더에서 데이터 추출을 시작합니다...\")\n",
    "    \n",
    "    # 추출한 데이터를 저장할 리스트\n",
    "    extracted_data = []\n",
    "\n",
    "    # 2. 폴더 내의 모든 파일 순회\n",
    "    for filename in os.listdir(INPUT_DIR):\n",
    "        if filename.endswith('.txt'):\n",
    "            file_path = os.path.join(INPUT_DIR, filename)\n",
    "            \n",
    "            try:\n",
    "                # --- A. 파일명에서 studyID 추출 ---\n",
    "                study_id = filename.removeprefix('s').removesuffix('.txt')\n",
    "\n",
    "                # --- B. 파일 내용에서 FINDINGS 부분 추출 ---\n",
    "                with open(file_path, 'r', encoding='utf-8') as f:\n",
    "                    content = f.read()\n",
    "                \n",
    "                match = re.search(r'FINDINGS:(.*?)IMPRESSION:', content, re.DOTALL | re.IGNORECASE)\n",
    "                \n",
    "                findings_text = \"\"\n",
    "                if match:\n",
    "                    findings_text = match.group(1).strip()\n",
    "                else:\n",
    "                    match_until_end = re.search(r'FINDINGS:(.*)', content, re.DOTALL | re.IGNORECASE)\n",
    "                    if match_until_end:\n",
    "                        findings_text = match_until_end.group(1).strip()\n",
    "                    else:\n",
    "                        findings_text = \"Not Found\"\n",
    "\n",
    "                # --- C. 추출한 데이터를 딕셔너리로 묶어 리스트에 추가 ---\n",
    "                # 'filename' 키와 값을 추가했습니다.\n",
    "                extracted_data.append({\n",
    "                    'studyID': study_id,\n",
    "                    'FINDINGS': findings_text,\n",
    "                    'filename': filename  # <--- 파일명 컬럼 추가\n",
    "                })\n",
    "                # print(f\"📄 파일: {filename} -> studyID: {study_id} (추출 완료)\")\n",
    "\n",
    "            except Exception as e:\n",
    "                print(f\"❌ 파일 처리 중 오류 발생: {filename}, 오류: {e}\")\n",
    "\n",
    "    # 3. 리스트를 Pandas DataFrame으로 변환\n",
    "    if not extracted_data:\n",
    "        print(\"처리할 텍스트 파일이 없습니다.\")\n",
    "        return\n",
    "        \n",
    "    # 컬럼 순서 지정\n",
    "    # df = pd.DataFrame(extracted_data, columns=['studyID', 'filename', 'FINDINGS'])\n",
    "    df = pd.DataFrame(extracted_data, columns=['studyID', 'FINDINGS'])\n",
    "\n",
    "    # 4. DataFrame을 CSV 파일로 저장\n",
    "    try:\n",
    "        df.to_csv(OUTPUT_CSV, index=False, encoding='utf-8-sig')\n",
    "        print(f\"\\n✨ 모든 작업 완료! 결과가 '{OUTPUT_CSV}' 파일로 저장되었습니다.\")\n",
    "    except Exception as e:\n",
    "        print(f\"❌ CSV 파일 저장 중 오류 발생: {e}\")\n",
    "\n",
    "\n",
    "# # --- 스크립트 실행 ---\n",
    "# if __name__ == \"__main__\":\n",
    "#     extract_findings_data()"
   ]
  },
  {
   "cell_type": "code",
   "execution_count": 12,
   "metadata": {},
   "outputs": [
    {
     "name": "stdout",
     "output_type": "stream",
     "text": [
      "📁 'pneumo_study' 폴더에서 데이터 추출을 시작합니다...\n",
      "\n",
      "✨ 모든 작업 완료! 결과가 'pneumo_findings_with_filename.csv' 파일로 저장되었습니다.\n"
     ]
    }
   ],
   "source": [
    "extract_findings_data()"
   ]
  },
  {
   "cell_type": "code",
   "execution_count": 13,
   "metadata": {},
   "outputs": [],
   "source": [
    "df = pd.read_csv(OUTPUT_CSV)\n",
    "not_found_df = df[df['FINDINGS'] == 'Not Found']"
   ]
  },
  {
   "cell_type": "code",
   "execution_count": 16,
   "metadata": {},
   "outputs": [
    {
     "data": {
      "application/vnd.microsoft.datawrangler.viewer.v0+json": {
       "columns": [
        {
         "name": "index",
         "rawType": "object",
         "type": "string"
        },
        {
         "name": "0",
         "rawType": "int64",
         "type": "integer"
        }
       ],
       "ref": "a6846531-f463-4595-8c6e-3f2848acd5ba",
       "rows": [
        [
         "studyID",
         "665"
        ],
        [
         "FINDINGS",
         "665"
        ]
       ],
       "shape": {
        "columns": 1,
        "rows": 2
       }
      },
      "text/plain": [
       "studyID     665\n",
       "FINDINGS    665\n",
       "dtype: int64"
      ]
     },
     "execution_count": 16,
     "metadata": {},
     "output_type": "execute_result"
    }
   ],
   "source": [
    "not_found_df.count()"
   ]
  },
  {
   "cell_type": "code",
   "execution_count": 17,
   "metadata": {},
   "outputs": [
    {
     "data": {
      "application/vnd.microsoft.datawrangler.viewer.v0+json": {
       "columns": [
        {
         "name": "index",
         "rawType": "object",
         "type": "string"
        },
        {
         "name": "0",
         "rawType": "int64",
         "type": "integer"
        }
       ],
       "ref": "1fae549a-0277-4056-bddd-7f403625ff07",
       "rows": [
        [
         "studyID",
         "2844"
        ],
        [
         "FINDINGS",
         "2843"
        ]
       ],
       "shape": {
        "columns": 1,
        "rows": 2
       }
      },
      "text/plain": [
       "studyID     2844\n",
       "FINDINGS    2843\n",
       "dtype: int64"
      ]
     },
     "execution_count": 17,
     "metadata": {},
     "output_type": "execute_result"
    }
   ],
   "source": [
    "df.count()"
   ]
  },
  {
   "cell_type": "code",
   "execution_count": 18,
   "metadata": {},
   "outputs": [],
   "source": [
    "finding_df = df[df['FINDINGS'] != 'Not Found']\n",
    "finding_df.to_csv('pneumo_findings_only.csv', index=False, encoding='utf-8-sig')\n",
    "not_found_df.to_csv('pneumo_not_found.csv', index=False, encoding='utf-8-sig')"
   ]
  },
  {
   "cell_type": "code",
   "execution_count": null,
   "metadata": {},
   "outputs": [],
   "source": []
  }
 ],
 "metadata": {
  "kernelspec": {
   "display_name": ".venv",
   "language": "python",
   "name": "python3"
  },
  "language_info": {
   "codemirror_mode": {
    "name": "ipython",
    "version": 3
   },
   "file_extension": ".py",
   "mimetype": "text/x-python",
   "name": "python",
   "nbconvert_exporter": "python",
   "pygments_lexer": "ipython3",
   "version": "3.12.11"
  }
 },
 "nbformat": 4,
 "nbformat_minor": 2
}
