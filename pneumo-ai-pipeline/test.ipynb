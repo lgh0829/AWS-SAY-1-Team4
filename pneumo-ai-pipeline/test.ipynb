{
 "cells": [
  {
   "cell_type": "code",
   "execution_count": 12,
   "id": "877171e1",
   "metadata": {},
   "outputs": [
    {
     "name": "stdout",
     "output_type": "stream",
     "text": [
      "Using device: mps\n",
      "폐 분할 시작: 0개 이미지\n",
      "분할된 폐 이미지 S3 업로드 완료: s3://say1-4team-bucket/cxr-pneumonia/segmented\n",
      "전처리 시작: 0개 이미지\n",
      "전처리된 이미지 S3 업로드 완료: s3://say1-4team-bucket/cxr-pneumonia/preprocessed\n",
      "데이터셋 준비 완료\n"
     ]
    }
   ],
   "source": [
    "# import os\n",
    "# import sys\n",
    "\n",
    "# # 프로젝트 루트 디렉토리를 PYTHONPATH에 추가\n",
    "# project_root = os.path.abspath('.')\n",
    "# os.environ['PYTHONPATH'] = f\"{project_root}:{os.environ.get('PYTHONPATH', '')}\"\n",
    "# print(f\"Set PYTHONPATH to: {os.environ.get('PYTHONPATH')}\")\n",
    "\n",
    "# 이제 스크립트 실행\n",
    "!python3 pipeline/prepare_dataset.py --config configs/prepare_config.yaml"
   ]
  },
  {
   "cell_type": "code",
   "execution_count": null,
   "id": "03451d83",
   "metadata": {},
   "outputs": [],
   "source": [
    "# %%writefile setup.py\n",
    "# from setuptools import setup, find_packages\n",
    "\n",
    "# setup(\n",
    "#     name=\"pneumo-ai-pipeline\",\n",
    "#     version=\"0.1\",\n",
    "#     packages=find_packages(),\n",
    "#     description=\"Pneumonia AI Pipeline\",\n",
    "#     author=\"AWS SAY Team4\",\n",
    "#     install_requires=[\n",
    "#         \"pyyaml\",\n",
    "#         # 여기에 다른 의존성 패키지들을 추가하세요\n",
    "#     ],\n",
    "# )"
   ]
  }
 ],
 "metadata": {
  "kernelspec": {
   "display_name": ".venv",
   "language": "python",
   "name": "python3"
  },
  "language_info": {
   "codemirror_mode": {
    "name": "ipython",
    "version": 3
   },
   "file_extension": ".py",
   "mimetype": "text/x-python",
   "name": "python",
   "nbconvert_exporter": "python",
   "pygments_lexer": "ipython3",
   "version": "3.12.10"
  }
 },
 "nbformat": 4,
 "nbformat_minor": 5
}
