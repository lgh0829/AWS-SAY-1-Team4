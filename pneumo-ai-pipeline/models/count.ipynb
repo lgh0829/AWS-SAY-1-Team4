{
 "cells": [
  {
   "cell_type": "code",
   "execution_count": 2,
   "id": "19549c71",
   "metadata": {},
   "outputs": [
    {
     "name": "stdout",
     "output_type": "stream",
     "text": [
      "Train 이미지 수: 22849장\n",
      "Val 이미지 수: 6529장\n",
      "Test 이미지 수: 3265장\n"
     ]
    }
   ],
   "source": [
    "import os\n",
    "\n",
    "# 기준 디렉토리\n",
    "base_dir = '/Users/skku_aws19/Desktop/aws_project/AWS-SAY-1-Team4/pneumo-ai-pipeline/data/preprocessed'\n",
    "\n",
    "# 이미지 확장자 정의 (필요시 추가 가능)\n",
    "image_extensions = {'.jpg', '.jpeg', '.png'}\n",
    "\n",
    "# 폴더별 이미지 수 세기\n",
    "for split in ['train', 'val', 'test']:\n",
    "    folder_path = os.path.join(base_dir, split)\n",
    "    image_count = 0\n",
    "    \n",
    "    for root, _, files in os.walk(folder_path):\n",
    "        for file in files:\n",
    "            if os.path.splitext(file)[1].lower() in image_extensions:\n",
    "                image_count += 1\n",
    "    \n",
    "    print(f\"{split.capitalize()} 이미지 수: {image_count}장\")"
   ]
  },
  {
   "cell_type": "code",
   "execution_count": null,
   "id": "d4d8665d",
   "metadata": {},
   "outputs": [],
   "source": []
  }
 ],
 "metadata": {
  "kernelspec": {
   "display_name": "Python 3",
   "language": "python",
   "name": "python3"
  },
  "language_info": {
   "codemirror_mode": {
    "name": "ipython",
    "version": 3
   },
   "file_extension": ".py",
   "mimetype": "text/x-python",
   "name": "python",
   "nbconvert_exporter": "python",
   "pygments_lexer": "ipython3",
   "version": "3.12.10"
  }
 },
 "nbformat": 4,
 "nbformat_minor": 5
}
