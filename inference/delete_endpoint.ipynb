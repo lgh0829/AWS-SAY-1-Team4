{
 "cells": [
  {
   "cell_type": "code",
   "execution_count": 4,
   "id": "7f22251f",
   "metadata": {},
   "outputs": [
    {
     "name": "stdout",
     "output_type": "stream",
     "text": [
      "엔드포인트 목록:\n",
      "say1-4team-classification-25-08-01-20-54\n"
     ]
    }
   ],
   "source": [
    "import boto3\n",
    "\n",
    "# 필터 조건\n",
    "target_name_substring = '4team'\n",
    "\n",
    "# SageMaker 클라이언트 생성\n",
    "sm_client = boto3.client('sagemaker')\n",
    "\n",
    "# 엔드포인트 이름을 담을 리스트\n",
    "matched_endpoints = []\n",
    "\n",
    "# 페이지네이션 처리\n",
    "paginator = sm_client.get_paginator('list_endpoints')\n",
    "for page in paginator.paginate():\n",
    "    for ep in page['Endpoints']:\n",
    "        endpoint_name = ep['EndpointName']\n",
    "        # matched_endpoints.append(endpoint_name)\n",
    "        if target_name_substring in endpoint_name:\n",
    "            matched_endpoints.append(endpoint_name)\n",
    "\n",
    "# 결과 출력\n",
    "print(\"엔드포인트 목록:\")\n",
    "for name in matched_endpoints:\n",
    "    print(name)"
   ]
  },
  {
   "cell_type": "code",
   "execution_count": 5,
   "id": "6b8f9bb7",
   "metadata": {},
   "outputs": [
    {
     "name": "stdout",
     "output_type": "stream",
     "text": [
      "✓ Deleted: say1-4team-classification-25-08-01-20-54\n"
     ]
    }
   ],
   "source": [
    "import boto3\n",
    "\n",
    "# SageMaker 클라이언트 생성\n",
    "sagemaker = boto3.client(\"sagemaker\", region_name=\"ap-northeast-2\")\n",
    "\n",
    "# 삭제할 엔드포인트 목록\n",
    "endpoints_to_delete = matched_endpoints\n",
    "\n",
    "# 삭제 수행\n",
    "for endpoint_name in endpoints_to_delete:\n",
    "    try:\n",
    "        sagemaker.delete_endpoint(EndpointName=endpoint_name)\n",
    "        print(f\"✓ Deleted: {endpoint_name}\")\n",
    "    except Exception as e:\n",
    "        print(f\"✗ Failed to delete {endpoint_name}: {e}\")"
   ]
  },
  {
   "cell_type": "code",
   "execution_count": null,
   "id": "ae87d793",
   "metadata": {},
   "outputs": [],
   "source": []
  }
 ],
 "metadata": {
  "kernelspec": {
   "display_name": "Python 3",
   "language": "python",
   "name": "python3"
  },
  "language_info": {
   "codemirror_mode": {
    "name": "ipython",
    "version": 3
   },
   "file_extension": ".py",
   "mimetype": "text/x-python",
   "name": "python",
   "nbconvert_exporter": "python",
   "pygments_lexer": "ipython3",
   "version": "3.12.10"
  }
 },
 "nbformat": 4,
 "nbformat_minor": 5
}
