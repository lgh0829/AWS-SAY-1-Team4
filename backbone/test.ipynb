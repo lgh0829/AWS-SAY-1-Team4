{
 "cells": [
  {
   "cell_type": "code",
   "execution_count": 1,
   "id": "c8dabeac",
   "metadata": {},
   "outputs": [
    {
     "name": "stdout",
     "output_type": "stream",
     "text": [
      "Requirement already satisfied: torch in /Users/skku_aws23/Desktop/cursor_project/github/rsna-pneumonia-detection-challenge/.venv/lib/python3.12/site-packages (2.7.1)\n",
      "Requirement already satisfied: torchvision in /Users/skku_aws23/Desktop/cursor_project/github/rsna-pneumonia-detection-challenge/.venv/lib/python3.12/site-packages (0.22.1)\n",
      "Collecting torchaudio\n",
      "  Using cached torchaudio-2.7.1-cp312-cp312-macosx_11_0_arm64.whl.metadata (6.6 kB)\n",
      "Requirement already satisfied: filelock in /Users/skku_aws23/Desktop/cursor_project/github/rsna-pneumonia-detection-challenge/.venv/lib/python3.12/site-packages (from torch) (3.18.0)\n",
      "Requirement already satisfied: typing-extensions>=4.10.0 in /Users/skku_aws23/Desktop/cursor_project/github/rsna-pneumonia-detection-challenge/.venv/lib/python3.12/site-packages (from torch) (4.14.1)\n",
      "Requirement already satisfied: setuptools in /Users/skku_aws23/Desktop/cursor_project/github/rsna-pneumonia-detection-challenge/.venv/lib/python3.12/site-packages (from torch) (80.9.0)\n",
      "Requirement already satisfied: sympy>=1.13.3 in /Users/skku_aws23/Desktop/cursor_project/github/rsna-pneumonia-detection-challenge/.venv/lib/python3.12/site-packages (from torch) (1.14.0)\n",
      "Requirement already satisfied: networkx in /Users/skku_aws23/Desktop/cursor_project/github/rsna-pneumonia-detection-challenge/.venv/lib/python3.12/site-packages (from torch) (3.5)\n",
      "Requirement already satisfied: jinja2 in /Users/skku_aws23/Desktop/cursor_project/github/rsna-pneumonia-detection-challenge/.venv/lib/python3.12/site-packages (from torch) (3.1.6)\n",
      "Requirement already satisfied: fsspec in /Users/skku_aws23/Desktop/cursor_project/github/rsna-pneumonia-detection-challenge/.venv/lib/python3.12/site-packages (from torch) (2025.5.1)\n",
      "Requirement already satisfied: numpy in /Users/skku_aws23/Desktop/cursor_project/github/rsna-pneumonia-detection-challenge/.venv/lib/python3.12/site-packages (from torchvision) (1.26.4)\n",
      "Requirement already satisfied: pillow!=8.3.*,>=5.3.0 in /Users/skku_aws23/Desktop/cursor_project/github/rsna-pneumonia-detection-challenge/.venv/lib/python3.12/site-packages (from torchvision) (11.3.0)\n",
      "Requirement already satisfied: mpmath<1.4,>=1.1.0 in /Users/skku_aws23/Desktop/cursor_project/github/rsna-pneumonia-detection-challenge/.venv/lib/python3.12/site-packages (from sympy>=1.13.3->torch) (1.3.0)\n",
      "Requirement already satisfied: MarkupSafe>=2.0 in /Users/skku_aws23/Desktop/cursor_project/github/rsna-pneumonia-detection-challenge/.venv/lib/python3.12/site-packages (from jinja2->torch) (3.0.2)\n",
      "Using cached torchaudio-2.7.1-cp312-cp312-macosx_11_0_arm64.whl (1.8 MB)\n",
      "Installing collected packages: torchaudio\n",
      "Successfully installed torchaudio-2.7.1\n"
     ]
    }
   ],
   "source": [
    "!pip3 install torch torchvision torchaudio"
   ]
  },
  {
   "cell_type": "code",
   "execution_count": 2,
   "id": "a923588f",
   "metadata": {},
   "outputs": [
    {
     "name": "stdout",
     "output_type": "stream",
     "text": [
      "Requirement already satisfied: opencv-python in /Users/skku_aws23/Desktop/cursor_project/github/rsna-pneumonia-detection-challenge/.venv/lib/python3.12/site-packages (4.12.0.88)\n",
      "Collecting numpy<2.3.0,>=2 (from opencv-python)\n",
      "  Using cached numpy-2.2.6-cp312-cp312-macosx_14_0_arm64.whl.metadata (62 kB)\n",
      "Using cached numpy-2.2.6-cp312-cp312-macosx_14_0_arm64.whl (5.1 MB)\n",
      "Installing collected packages: numpy\n",
      "  Attempting uninstall: numpy\n",
      "    Found existing installation: numpy 1.26.4\n",
      "    Uninstalling numpy-1.26.4:\n",
      "      Successfully uninstalled numpy-1.26.4\n",
      "\u001b[31mERROR: pip's dependency resolver does not currently take into account all the packages that are installed. This behaviour is the source of the following dependency conflicts.\n",
      "sagemaker 2.247.1 requires numpy==1.26.4, but you have numpy 2.2.6 which is incompatible.\n",
      "tensorflow 2.19.0 requires numpy<2.2.0,>=1.26.0, but you have numpy 2.2.6 which is incompatible.\u001b[0m\u001b[31m\n",
      "\u001b[0mSuccessfully installed numpy-2.2.6\n"
     ]
    }
   ],
   "source": [
    "!pip install opencv-python"
   ]
  },
  {
   "cell_type": "code",
   "execution_count": 3,
   "id": "3ccac573",
   "metadata": {},
   "outputs": [
    {
     "name": "stdout",
     "output_type": "stream",
     "text": [
      "Collecting albumentations\n",
      "  Downloading albumentations-2.0.8-py3-none-any.whl.metadata (43 kB)\n",
      "Requirement already satisfied: numpy>=1.24.4 in /Users/skku_aws23/Desktop/cursor_project/github/rsna-pneumonia-detection-challenge/.venv/lib/python3.12/site-packages (from albumentations) (2.2.6)\n",
      "Requirement already satisfied: scipy>=1.10.0 in /Users/skku_aws23/Desktop/cursor_project/github/rsna-pneumonia-detection-challenge/.venv/lib/python3.12/site-packages (from albumentations) (1.16.0)\n",
      "Requirement already satisfied: PyYAML in /Users/skku_aws23/Desktop/cursor_project/github/rsna-pneumonia-detection-challenge/.venv/lib/python3.12/site-packages (from albumentations) (6.0.2)\n",
      "Requirement already satisfied: pydantic>=2.9.2 in /Users/skku_aws23/Desktop/cursor_project/github/rsna-pneumonia-detection-challenge/.venv/lib/python3.12/site-packages (from albumentations) (2.11.7)\n",
      "Collecting albucore==0.0.24 (from albumentations)\n",
      "  Downloading albucore-0.0.24-py3-none-any.whl.metadata (5.3 kB)\n",
      "Collecting opencv-python-headless>=4.9.0.80 (from albumentations)\n",
      "  Downloading opencv_python_headless-4.12.0.88-cp37-abi3-macosx_13_0_arm64.whl.metadata (19 kB)\n",
      "Collecting stringzilla>=3.10.4 (from albucore==0.0.24->albumentations)\n",
      "  Downloading stringzilla-3.12.5-cp312-cp312-macosx_11_0_arm64.whl.metadata (80 kB)\n",
      "Collecting simsimd>=5.9.2 (from albucore==0.0.24->albumentations)\n",
      "  Downloading simsimd-6.5.0-cp312-cp312-macosx_11_0_arm64.whl.metadata (70 kB)\n",
      "Requirement already satisfied: annotated-types>=0.6.0 in /Users/skku_aws23/Desktop/cursor_project/github/rsna-pneumonia-detection-challenge/.venv/lib/python3.12/site-packages (from pydantic>=2.9.2->albumentations) (0.7.0)\n",
      "Requirement already satisfied: pydantic-core==2.33.2 in /Users/skku_aws23/Desktop/cursor_project/github/rsna-pneumonia-detection-challenge/.venv/lib/python3.12/site-packages (from pydantic>=2.9.2->albumentations) (2.33.2)\n",
      "Requirement already satisfied: typing-extensions>=4.12.2 in /Users/skku_aws23/Desktop/cursor_project/github/rsna-pneumonia-detection-challenge/.venv/lib/python3.12/site-packages (from pydantic>=2.9.2->albumentations) (4.14.1)\n",
      "Requirement already satisfied: typing-inspection>=0.4.0 in /Users/skku_aws23/Desktop/cursor_project/github/rsna-pneumonia-detection-challenge/.venv/lib/python3.12/site-packages (from pydantic>=2.9.2->albumentations) (0.4.1)\n",
      "Downloading albumentations-2.0.8-py3-none-any.whl (369 kB)\n",
      "Downloading albucore-0.0.24-py3-none-any.whl (15 kB)\n",
      "Downloading opencv_python_headless-4.12.0.88-cp37-abi3-macosx_13_0_arm64.whl (37.9 MB)\n",
      "\u001b[2K   \u001b[90m━━━━━━━━━━━━━━━━━━━━━━━━━━━━━━━━━━━━━━━━\u001b[0m \u001b[32m37.9/37.9 MB\u001b[0m \u001b[31m39.8 MB/s\u001b[0m eta \u001b[36m0:00:00\u001b[0ma \u001b[36m0:00:01\u001b[0m\n",
      "\u001b[?25hDownloading simsimd-6.5.0-cp312-cp312-macosx_11_0_arm64.whl (134 kB)\n",
      "Downloading stringzilla-3.12.5-cp312-cp312-macosx_11_0_arm64.whl (79 kB)\n",
      "Installing collected packages: stringzilla, simsimd, opencv-python-headless, albucore, albumentations\n",
      "\u001b[2K   \u001b[90m━━━━━━━━━━━━━━━━━━━━━━━━━━━━━━━━━━━━━━━━\u001b[0m \u001b[32m5/5\u001b[0m [albumentations]m [opencv-python-headless]\n",
      "\u001b[1A\u001b[2KSuccessfully installed albucore-0.0.24 albumentations-2.0.8 opencv-python-headless-4.12.0.88 simsimd-6.5.0 stringzilla-3.12.5\n"
     ]
    }
   ],
   "source": [
    "!pip install albumentations"
   ]
  },
  {
   "cell_type": "code",
   "execution_count": 4,
   "id": "203effd5",
   "metadata": {},
   "outputs": [
    {
     "name": "stdout",
     "output_type": "stream",
     "text": [
      "Collecting lungs-segmentation==1.1.1\n",
      "  Downloading lungs_segmentation-1.1.1-py2.py3-none-any.whl.metadata (3.0 kB)\n",
      "Downloading lungs_segmentation-1.1.1-py2.py3-none-any.whl (16 kB)\n",
      "Installing collected packages: lungs-segmentation\n",
      "Successfully installed lungs-segmentation-1.1.1\n"
     ]
    }
   ],
   "source": [
    "!pip install lungs-segmentation==1.1.1 --no-deps"
   ]
  },
  {
   "cell_type": "code",
   "execution_count": 5,
   "id": "de5558e1",
   "metadata": {},
   "outputs": [],
   "source": [
    "# 이미지 경로\n",
    "img_path = './data/train/0a19fb3c-36ef-401b-9deb-77f4f86d5d80.jpg'"
   ]
  },
  {
   "cell_type": "code",
   "execution_count": 6,
   "id": "289cb3cf",
   "metadata": {},
   "outputs": [
    {
     "name": "stderr",
     "output_type": "stream",
     "text": [
      "/Users/skku_aws23/Desktop/cursor_project/github/rsna-pneumonia-detection-challenge/.venv/lib/python3.12/site-packages/tqdm/auto.py:21: TqdmWarning: IProgress not found. Please update jupyter and ipywidgets. See https://ipywidgets.readthedocs.io/en/stable/user_install.html\n",
      "  from .autonotebook import tqdm as notebook_tqdm\n"
     ]
    },
    {
     "name": "stdout",
     "output_type": "stream",
     "text": [
      "Downloading: \"https://download.pytorch.org/models/resnet34-333f7ec4.pth\" to /Users/skku_aws23/.cache/torch/hub/checkpoints/resnet34-333f7ec4.pth\n"
     ]
    },
    {
     "name": "stderr",
     "output_type": "stream",
     "text": [
      "100%|██████████| 83.3M/83.3M [00:01<00:00, 59.6MB/s]\n"
     ]
    },
    {
     "name": "stdout",
     "output_type": "stream",
     "text": [
      "Downloading: \"https://download.pytorch.org/models/densenet121-a639ec97.pth\" to /Users/skku_aws23/.cache/torch/hub/checkpoints/densenet121-a639ec97.pth\n"
     ]
    },
    {
     "name": "stderr",
     "output_type": "stream",
     "text": [
      "100%|██████████| 30.8M/30.8M [00:00<00:00, 60.2MB/s]\n"
     ]
    },
    {
     "name": "stdout",
     "output_type": "stream",
     "text": [
      "Downloading: \"https://github.com/alimbekovKZ/lungs_segmentation/releases/download/1.0.0/resnet34.pth\" to /Users/skku_aws23/.cache/torch/hub/checkpoints/resnet34.pth\n"
     ]
    },
    {
     "name": "stderr",
     "output_type": "stream",
     "text": [
      "100%|██████████| 98.6M/98.6M [00:03<00:00, 28.6MB/s]\n",
      "[ WARN:0@9.846] global loadsave.cpp:275 findDecoder imread_('./data/train/0a19fb3c-36ef-401b-9deb-77f4f86d5d80.jpg'): can't open/read file: check file path/integrity\n"
     ]
    },
    {
     "ename": "AttributeError",
     "evalue": "'NoneType' object has no attribute 'min'",
     "output_type": "error",
     "traceback": [
      "\u001b[31m---------------------------------------------------------------------------\u001b[39m",
      "\u001b[31mAttributeError\u001b[39m                            Traceback (most recent call last)",
      "\u001b[36mCell\u001b[39m\u001b[36m \u001b[39m\u001b[32mIn[6]\u001b[39m\u001b[32m, line 14\u001b[39m\n\u001b[32m     11\u001b[39m model = model.to(\u001b[33m'\u001b[39m\u001b[33mmps\u001b[39m\u001b[33m'\u001b[39m)\n\u001b[32m     13\u001b[39m \u001b[38;5;66;03m# 추론 실행\u001b[39;00m\n\u001b[32m---> \u001b[39m\u001b[32m14\u001b[39m image, mask = \u001b[43minference\u001b[49m\u001b[43m(\u001b[49m\u001b[43mmodel\u001b[49m\u001b[43m,\u001b[49m\u001b[43m \u001b[49m\u001b[43mimg_path\u001b[49m\u001b[43m)\u001b[49m\n\u001b[32m     16\u001b[39m \u001b[38;5;66;03m# 결과 시각화\u001b[39;00m\n\u001b[32m     17\u001b[39m cv2.imwrite(\u001b[33m'\u001b[39m\u001b[33mmasked_output_resnet34.png\u001b[39m\u001b[33m'\u001b[39m, mask[\u001b[32m0\u001b[39m] * \u001b[32m255\u001b[39m)\n",
      "\u001b[36mFile \u001b[39m\u001b[32m~/Desktop/cursor_project/github/rsna-pneumonia-detection-challenge/.venv/lib/python3.12/site-packages/lungs_segmentation/inference.py:55\u001b[39m, in \u001b[36minference\u001b[39m\u001b[34m(model, img_path, thresh)\u001b[39m\n\u001b[32m     53\u001b[39m model.eval()\n\u001b[32m     54\u001b[39m image = cv2.imread(\u001b[33mf\u001b[39m\u001b[33m\"\u001b[39m\u001b[38;5;132;01m{\u001b[39;00mimg_path\u001b[38;5;132;01m}\u001b[39;00m\u001b[33m\"\u001b[39m)\n\u001b[32m---> \u001b[39m\u001b[32m55\u001b[39m image = (image - \u001b[43mimage\u001b[49m\u001b[43m.\u001b[49m\u001b[43mmin\u001b[49m()) / (image.max() - image.min())\n\u001b[32m     56\u001b[39m augs = aug(image=image)\n\u001b[32m     57\u001b[39m image = augs[\u001b[33m\"\u001b[39m\u001b[33mimage\u001b[39m\u001b[33m\"\u001b[39m].transpose((\u001b[32m2\u001b[39m, \u001b[32m0\u001b[39m, \u001b[32m1\u001b[39m))\n",
      "\u001b[31mAttributeError\u001b[39m: 'NoneType' object has no attribute 'min'"
     ]
    }
   ],
   "source": [
    "#resnet34\n",
    "\n",
    "import cv2\n",
    "import numpy as np\n",
    "import torch\n",
    "from lungs_segmentation.inference import inference\n",
    "from lungs_segmentation.pre_trained_models import create_model\n",
    "\n",
    "# 모델 생성 및 CPU에 올림\n",
    "model = create_model('resnet34').to(device='mps')\n",
    "model = model.to('mps')\n",
    "\n",
    "# 추론 실행\n",
    "image, mask = inference(model, img_path)\n",
    "\n",
    "# 결과 시각화\n",
    "cv2.imwrite('masked_output_resnet34.png', mask[0] * 255)"
   ]
  },
  {
   "cell_type": "code",
   "execution_count": 28,
   "id": "4aaf80e4",
   "metadata": {},
   "outputs": [
    {
     "data": {
      "text/plain": [
       "True"
      ]
     },
     "execution_count": 28,
     "metadata": {},
     "output_type": "execute_result"
    }
   ],
   "source": [
    "#densenet121\n",
    "\n",
    "import cv2\n",
    "import numpy as np\n",
    "import torch\n",
    "from lungs_segmentation.inference import inference\n",
    "from lungs_segmentation.pre_trained_models import create_model\n",
    "\n",
    "# 모델 생성 및 CPU에 올림\n",
    "model = create_model('densenet121').to(device='mps')\n",
    "model = model.to('mps')\n",
    "\n",
    "# 추론 실행\n",
    "image, mask = inference(model, img_path)\n",
    "\n",
    "# 결과 시각화\n",
    "cv2.imwrite('masked_output_densenet121.png', mask[0] * 255)"
   ]
  },
  {
   "cell_type": "code",
   "execution_count": 26,
   "id": "847a39bd",
   "metadata": {},
   "outputs": [
    {
     "data": {
      "text/plain": [
       "array([[[0, 0, 0, ..., 0, 0, 0],\n",
       "        [0, 0, 0, ..., 0, 0, 0],\n",
       "        [0, 0, 0, ..., 0, 0, 0],\n",
       "        ...,\n",
       "        [0, 0, 0, ..., 0, 0, 0],\n",
       "        [0, 0, 0, ..., 0, 0, 0],\n",
       "        [0, 0, 0, ..., 0, 0, 0]],\n",
       "\n",
       "       [[0, 0, 0, ..., 0, 0, 0],\n",
       "        [0, 0, 0, ..., 0, 0, 0],\n",
       "        [0, 0, 0, ..., 0, 0, 0],\n",
       "        ...,\n",
       "        [0, 0, 0, ..., 0, 0, 0],\n",
       "        [0, 0, 0, ..., 0, 0, 0],\n",
       "        [0, 0, 0, ..., 0, 0, 0]]], shape=(2, 512, 512), dtype=uint8)"
      ]
     },
     "execution_count": 26,
     "metadata": {},
     "output_type": "execute_result"
    }
   ],
   "source": [
    "mask"
   ]
  },
  {
   "cell_type": "code",
   "execution_count": null,
   "id": "355c1bbd",
   "metadata": {},
   "outputs": [],
   "source": [
    "# 마스크 중 첫 번째 채널 사용 (좌/우 폐 마스크 합치기)\n",
    "lung_mask = mask[0] + mask[1]\n",
    "\n",
    "# resize to image 크기\n",
    "lung_mask_resized = cv2.resize(lung_mask.astype(\"uint8\"), (image.shape[1], image.shape[0]), interpolation=cv2.INTER_NEAREST)\n",
    "\n",
    "# 마스크를 3채널로 확장\n",
    "lung_mask_3ch = np.stack([lung_mask_resized]*3, axis=-1)  # shape: (H, W) → (H, W, 3)\n",
    "\n",
    "# 곱셈: 마스크 적용\n",
    "masked_image = image * lung_mask_3ch  # (H, W, 3) * (H, W, 3)\n",
    "\n",
    "# 결과 저장\n",
    "cv2.imwrite(\"lung_only.png\", masked_image)"
   ]
  },
  {
   "cell_type": "code",
   "execution_count": 21,
   "id": "e3448ca5",
   "metadata": {},
   "outputs": [
    {
     "ename": "ValueError",
     "evalue": "operands could not be broadcast together with shapes (512,512,3) (512,512) ",
     "output_type": "error",
     "traceback": [
      "\u001b[31m---------------------------------------------------------------------------\u001b[39m",
      "\u001b[31mValueError\u001b[39m                                Traceback (most recent call last)",
      "\u001b[36mCell\u001b[39m\u001b[36m \u001b[39m\u001b[32mIn[21]\u001b[39m\u001b[32m, line 8\u001b[39m\n\u001b[32m      5\u001b[39m lung_mask_resized = cv2.resize(lung_mask.astype(\u001b[33m\"\u001b[39m\u001b[33muint8\u001b[39m\u001b[33m\"\u001b[39m), (image.shape[\u001b[32m1\u001b[39m], image.shape[\u001b[32m0\u001b[39m]), interpolation=cv2.INTER_NEAREST)\n\u001b[32m      7\u001b[39m \u001b[38;5;66;03m# 마스크 적용\u001b[39;00m\n\u001b[32m----> \u001b[39m\u001b[32m8\u001b[39m masked_image = \u001b[43mimage\u001b[49m\u001b[43m \u001b[49m\u001b[43m*\u001b[49m\u001b[43m \u001b[49m\u001b[43mlung_mask_resized\u001b[49m\n\u001b[32m     10\u001b[39m \u001b[38;5;66;03m# 결과 저장\u001b[39;00m\n\u001b[32m     11\u001b[39m cv2.imwrite(\u001b[33m\"\u001b[39m\u001b[33mlung_only.png\u001b[39m\u001b[33m\"\u001b[39m, masked_image)\n",
      "\u001b[31mValueError\u001b[39m: operands could not be broadcast together with shapes (512,512,3) (512,512) "
     ]
    }
   ],
   "source": [
    "# 마스크 중 첫 번째 채널 사용 (왼쪽/오른쪽 폐 중 하나 또는 둘 합치기)\n",
    "lung_mask = mask[0] + mask[1]  # 또는 np.max(mask, axis=0) 도 가능\n",
    "\n",
    "# 원본 이미지 크기로 resize\n",
    "lung_mask_resized = cv2.resize(lung_mask.astype(\"uint8\"), (image.shape[1], image.shape[0]), interpolation=cv2.INTER_NEAREST)\n",
    "\n",
    "# 마스크 적용\n",
    "masked_image = image * lung_mask_resized\n",
    "\n",
    "# 결과 저장\n",
    "cv2.imwrite(\"lung_only.png\", masked_image)"
   ]
  },
  {
   "cell_type": "code",
   "execution_count": null,
   "id": "96e65cac",
   "metadata": {},
   "outputs": [],
   "source": []
  }
 ],
 "metadata": {
  "kernelspec": {
   "display_name": ".venv",
   "language": "python",
   "name": "python3"
  },
  "language_info": {
   "codemirror_mode": {
    "name": "ipython",
    "version": 3
   },
   "file_extension": ".py",
   "mimetype": "text/x-python",
   "name": "python",
   "nbconvert_exporter": "python",
   "pygments_lexer": "ipython3",
   "version": "3.12.11"
  }
 },
 "nbformat": 4,
 "nbformat_minor": 5
}
