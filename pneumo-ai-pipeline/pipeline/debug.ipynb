{
 "cells": [
  {
   "cell_type": "code",
   "execution_count": 2,
   "id": "8a96a986",
   "metadata": {},
   "outputs": [
    {
     "name": "stderr",
     "output_type": "stream",
     "text": [
      "/Users/skku_aws19/Desktop/aws_project/AWS-SAY-1-Team4/pneumo-ai-pipeline/.venv/lib/python3.12/site-packages/tqdm/auto.py:21: TqdmWarning: IProgress not found. Please update jupyter and ipywidgets. See https://ipywidgets.readthedocs.io/en/stable/user_install.html\n",
      "  from .autonotebook import tqdm as notebook_tqdm\n"
     ]
    }
   ],
   "source": [
    "import sys\n",
    "from pathlib import Path\n",
    "\n",
    "# 현재 파일 기준으로 상위 디렉토리 경로를 Python path에 추가\n",
    "project_root = Path().resolve().parent  # 또는 경로를 명시적으로 적어도 됨\n",
    "sys.path.insert(0, str(project_root))\n",
    "\n",
    "# 이제 import\n",
    "from common.pneumo_utils.segmentation import LungSegmenter\n",
    "from PIL import Image\n",
    "import matplotlib.pyplot as plt"
   ]
  },
  {
   "cell_type": "code",
   "execution_count": 3,
   "id": "4d2cca16",
   "metadata": {},
   "outputs": [
    {
     "name": "stdout",
     "output_type": "stream",
     "text": [
      "combined_mask 합계: 12293040\n"
     ]
    },
    {
     "data": {
      "image/png": "[encoded data removed]",
      "text/plain": [
       "<Figure size 640x480 with 1 Axes>"
      ]
     },
     "metadata": {},
     "output_type": "display_data"
    }
   ],
   "source": [
    "\n",
    "\n",
    "img_path = \"/Users/skku_aws19/Desktop/aws_project/AWS-SAY-1-Team4/pneumo-ai-pipeline/data/raw/test/0/0a5c4dcb-33ac-4466-9dbf-42ed5c8ec1f0.jpg\"\n",
    "segmenter = LungSegmenter()\n",
    "\n",
    "img, combined_mask, _ = segmenter.segment_image(img_path)\n",
    "\n",
    "print(\"combined_mask 합계:\", combined_mask.sum())\n",
    "plt.title(\"Segmentation Mask\")\n",
    "plt.show()"
   ]
  },
  {
   "cell_type": "code",
   "execution_count": null,
   "id": "a61cdcf8",
   "metadata": {},
   "outputs": [],
   "source": []
  }
 ],
 "metadata": {
  "kernelspec": {
   "display_name": ".venv",
   "language": "python",
   "name": "python3"
  },
  "language_info": {
   "codemirror_mode": {
    "name": "ipython",
    "version": 3
   },
   "file_extension": ".py",
   "mimetype": "text/x-python",
   "name": "python",
   "nbconvert_exporter": "python",
   "pygments_lexer": "ipython3",
   "version": "3.12.10"
  }
 },
 "nbformat": 4,
 "nbformat_minor": 5
}
